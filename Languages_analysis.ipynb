{
 "cells": [
  {
   "cell_type": "code",
   "execution_count": 8,
   "id": "8bf1854a-407f-4b0e-b536-cb73f001dd27",
   "metadata": {},
   "outputs": [],
   "source": [
    "import pandas as pd"
   ]
  },
  {
   "cell_type": "code",
   "execution_count": 10,
   "id": "184485ac-cb80-4ea7-be2a-273198c0946f",
   "metadata": {},
   "outputs": [],
   "source": [
    "df = pd.read_csv('languages_wiki.csv')"
   ]
  },
  {
   "cell_type": "code",
   "execution_count": 70,
   "id": "0e2b6d1a-45ff-4b20-b759-4928e8ae013d",
   "metadata": {},
   "outputs": [
    {
     "data": {
      "text/html": [
       "<div>\n",
       "<style scoped>\n",
       "    .dataframe tbody tr th:only-of-type {\n",
       "        vertical-align: middle;\n",
       "    }\n",
       "\n",
       "    .dataframe tbody tr th {\n",
       "        vertical-align: top;\n",
       "    }\n",
       "\n",
       "    .dataframe thead th {\n",
       "        text-align: right;\n",
       "    }\n",
       "</style>\n",
       "<table border=\"1\" class=\"dataframe\">\n",
       "  <thead>\n",
       "    <tr style=\"text-align: right;\">\n",
       "      <th></th>\n",
       "      <th>Language</th>\n",
       "      <th>Native speakers(in millions)</th>\n",
       "      <th>Language family</th>\n",
       "      <th>Branch</th>\n",
       "    </tr>\n",
       "  </thead>\n",
       "  <tbody>\n",
       "    <tr>\n",
       "      <th>0</th>\n",
       "      <td>Mandarin Chinese</td>\n",
       "      <td>941</td>\n",
       "      <td>Sino-Tibetan</td>\n",
       "      <td>Sinitic</td>\n",
       "    </tr>\n",
       "    <tr>\n",
       "      <th>1</th>\n",
       "      <td>Spanish</td>\n",
       "      <td>486</td>\n",
       "      <td>Indo-European</td>\n",
       "      <td>Romance</td>\n",
       "    </tr>\n",
       "    <tr>\n",
       "      <th>2</th>\n",
       "      <td>English</td>\n",
       "      <td>380</td>\n",
       "      <td>Indo-European</td>\n",
       "      <td>Germanic</td>\n",
       "    </tr>\n",
       "    <tr>\n",
       "      <th>3</th>\n",
       "      <td>Hindi</td>\n",
       "      <td>345</td>\n",
       "      <td>Indo-European</td>\n",
       "      <td>Indo-Aryan</td>\n",
       "    </tr>\n",
       "    <tr>\n",
       "      <th>4</th>\n",
       "      <td>Bengali</td>\n",
       "      <td>237</td>\n",
       "      <td>Indo-European</td>\n",
       "      <td>Indo-Aryan</td>\n",
       "    </tr>\n",
       "    <tr>\n",
       "      <th>5</th>\n",
       "      <td>Portuguese</td>\n",
       "      <td>236</td>\n",
       "      <td>Indo-European</td>\n",
       "      <td>Romance</td>\n",
       "    </tr>\n",
       "    <tr>\n",
       "      <th>6</th>\n",
       "      <td>Russian</td>\n",
       "      <td>148</td>\n",
       "      <td>Indo-European</td>\n",
       "      <td>Balto-Slavic</td>\n",
       "    </tr>\n",
       "    <tr>\n",
       "      <th>7</th>\n",
       "      <td>Japanese</td>\n",
       "      <td>123</td>\n",
       "      <td>Japonic</td>\n",
       "      <td>Japanese</td>\n",
       "    </tr>\n",
       "    <tr>\n",
       "      <th>8</th>\n",
       "      <td>Yue Chinese</td>\n",
       "      <td>86</td>\n",
       "      <td>Sino-Tibetan</td>\n",
       "      <td>Sinitic</td>\n",
       "    </tr>\n",
       "    <tr>\n",
       "      <th>9</th>\n",
       "      <td>Vietnamese</td>\n",
       "      <td>85</td>\n",
       "      <td>Austroasiatic</td>\n",
       "      <td>Vietic</td>\n",
       "    </tr>\n",
       "    <tr>\n",
       "      <th>10</th>\n",
       "      <td>Turkish</td>\n",
       "      <td>84</td>\n",
       "      <td>Turkic</td>\n",
       "      <td>Oghuz</td>\n",
       "    </tr>\n",
       "    <tr>\n",
       "      <th>11</th>\n",
       "      <td>Wu Chinese</td>\n",
       "      <td>83</td>\n",
       "      <td>Sino-Tibetan</td>\n",
       "      <td>Sinitic</td>\n",
       "    </tr>\n",
       "    <tr>\n",
       "      <th>12</th>\n",
       "      <td>Marathi</td>\n",
       "      <td>83</td>\n",
       "      <td>Indo-European</td>\n",
       "      <td>Indo-Aryan</td>\n",
       "    </tr>\n",
       "    <tr>\n",
       "      <th>13</th>\n",
       "      <td>Telugu</td>\n",
       "      <td>83</td>\n",
       "      <td>Dravidian</td>\n",
       "      <td>South-Central</td>\n",
       "    </tr>\n",
       "    <tr>\n",
       "      <th>14</th>\n",
       "      <td>Western Punjabi</td>\n",
       "      <td>82</td>\n",
       "      <td>Indo-European</td>\n",
       "      <td>Indo-Aryan</td>\n",
       "    </tr>\n",
       "    <tr>\n",
       "      <th>15</th>\n",
       "      <td>Korean</td>\n",
       "      <td>81</td>\n",
       "      <td>Koreanic</td>\n",
       "      <td>—</td>\n",
       "    </tr>\n",
       "    <tr>\n",
       "      <th>16</th>\n",
       "      <td>Tamil</td>\n",
       "      <td>79</td>\n",
       "      <td>Dravidian</td>\n",
       "      <td>South</td>\n",
       "    </tr>\n",
       "    <tr>\n",
       "      <th>17</th>\n",
       "      <td>Egyptian Arabic</td>\n",
       "      <td>78</td>\n",
       "      <td>Afroasiatic</td>\n",
       "      <td>Semitic</td>\n",
       "    </tr>\n",
       "    <tr>\n",
       "      <th>18</th>\n",
       "      <td>Standard German</td>\n",
       "      <td>76</td>\n",
       "      <td>Indo-European</td>\n",
       "      <td>Germanic</td>\n",
       "    </tr>\n",
       "    <tr>\n",
       "      <th>19</th>\n",
       "      <td>French</td>\n",
       "      <td>74</td>\n",
       "      <td>Indo-European</td>\n",
       "      <td>Romance</td>\n",
       "    </tr>\n",
       "    <tr>\n",
       "      <th>20</th>\n",
       "      <td>Urdu</td>\n",
       "      <td>70</td>\n",
       "      <td>Indo-European</td>\n",
       "      <td>Indo-Aryan</td>\n",
       "    </tr>\n",
       "    <tr>\n",
       "      <th>21</th>\n",
       "      <td>Javanese</td>\n",
       "      <td>68</td>\n",
       "      <td>Austronesian</td>\n",
       "      <td>Malayo-Polynesian</td>\n",
       "    </tr>\n",
       "    <tr>\n",
       "      <th>22</th>\n",
       "      <td>Italian</td>\n",
       "      <td>64</td>\n",
       "      <td>Indo-European</td>\n",
       "      <td>Romance</td>\n",
       "    </tr>\n",
       "    <tr>\n",
       "      <th>23</th>\n",
       "      <td>Iranian Persian</td>\n",
       "      <td>62</td>\n",
       "      <td>Indo-European</td>\n",
       "      <td>Iranian</td>\n",
       "    </tr>\n",
       "    <tr>\n",
       "      <th>24</th>\n",
       "      <td>Gujarati</td>\n",
       "      <td>58</td>\n",
       "      <td>Indo-European</td>\n",
       "      <td>Indo-Aryan</td>\n",
       "    </tr>\n",
       "    <tr>\n",
       "      <th>25</th>\n",
       "      <td>Hausa</td>\n",
       "      <td>54</td>\n",
       "      <td>Afroasiatic</td>\n",
       "      <td>Chadic</td>\n",
       "    </tr>\n",
       "    <tr>\n",
       "      <th>26</th>\n",
       "      <td>Bhojpuri</td>\n",
       "      <td>53</td>\n",
       "      <td>Indo-European</td>\n",
       "      <td>Indo-Aryan</td>\n",
       "    </tr>\n",
       "    <tr>\n",
       "      <th>27</th>\n",
       "      <td>Levantine Arabic</td>\n",
       "      <td>51</td>\n",
       "      <td>Afroasiatic</td>\n",
       "      <td>Semitic</td>\n",
       "    </tr>\n",
       "    <tr>\n",
       "      <th>28</th>\n",
       "      <td>Southern Min</td>\n",
       "      <td>51</td>\n",
       "      <td>Sino-Tibetan</td>\n",
       "      <td>Sinitic</td>\n",
       "    </tr>\n",
       "  </tbody>\n",
       "</table>\n",
       "</div>"
      ],
      "text/plain": [
       "            Language  Native speakers(in millions) Language family  \\\n",
       "0   Mandarin Chinese                           941    Sino-Tibetan   \n",
       "1            Spanish                           486   Indo-European   \n",
       "2            English                           380   Indo-European   \n",
       "3              Hindi                           345   Indo-European   \n",
       "4            Bengali                           237   Indo-European   \n",
       "5         Portuguese                           236   Indo-European   \n",
       "6            Russian                           148   Indo-European   \n",
       "7           Japanese                           123         Japonic   \n",
       "8        Yue Chinese                            86    Sino-Tibetan   \n",
       "9         Vietnamese                            85   Austroasiatic   \n",
       "10           Turkish                            84          Turkic   \n",
       "11        Wu Chinese                            83    Sino-Tibetan   \n",
       "12           Marathi                            83   Indo-European   \n",
       "13            Telugu                            83       Dravidian   \n",
       "14   Western Punjabi                            82   Indo-European   \n",
       "15            Korean                            81        Koreanic   \n",
       "16             Tamil                            79       Dravidian   \n",
       "17   Egyptian Arabic                            78     Afroasiatic   \n",
       "18   Standard German                            76   Indo-European   \n",
       "19            French                            74   Indo-European   \n",
       "20              Urdu                            70   Indo-European   \n",
       "21          Javanese                            68    Austronesian   \n",
       "22           Italian                            64   Indo-European   \n",
       "23   Iranian Persian                            62   Indo-European   \n",
       "24          Gujarati                            58   Indo-European   \n",
       "25             Hausa                            54     Afroasiatic   \n",
       "26          Bhojpuri                            53   Indo-European   \n",
       "27  Levantine Arabic                            51     Afroasiatic   \n",
       "28      Southern Min                            51    Sino-Tibetan   \n",
       "\n",
       "               Branch  \n",
       "0             Sinitic  \n",
       "1             Romance  \n",
       "2            Germanic  \n",
       "3          Indo-Aryan  \n",
       "4          Indo-Aryan  \n",
       "5             Romance  \n",
       "6        Balto-Slavic  \n",
       "7            Japanese  \n",
       "8             Sinitic  \n",
       "9              Vietic  \n",
       "10              Oghuz  \n",
       "11            Sinitic  \n",
       "12         Indo-Aryan  \n",
       "13      South-Central  \n",
       "14         Indo-Aryan  \n",
       "15                  —  \n",
       "16              South  \n",
       "17            Semitic  \n",
       "18           Germanic  \n",
       "19            Romance  \n",
       "20         Indo-Aryan  \n",
       "21  Malayo-Polynesian  \n",
       "22            Romance  \n",
       "23            Iranian  \n",
       "24         Indo-Aryan  \n",
       "25             Chadic  \n",
       "26         Indo-Aryan  \n",
       "27            Semitic  \n",
       "28            Sinitic  "
      ]
     },
     "execution_count": 70,
     "metadata": {},
     "output_type": "execute_result"
    }
   ],
   "source": [
    "df"
   ]
  },
  {
   "cell_type": "markdown",
   "id": "4c5a299b-9de7-4bce-b8bb-4ae29501adbc",
   "metadata": {},
   "source": [
    "# 1) What is the total number of native speakers across all languages in the dataset?"
   ]
  },
  {
   "cell_type": "code",
   "execution_count": 32,
   "id": "f000070c-044f-40ca-8811-7e0aaf3b6043",
   "metadata": {},
   "outputs": [
    {
     "data": {
      "text/plain": [
       "4401"
      ]
     },
     "execution_count": 32,
     "metadata": {},
     "output_type": "execute_result"
    }
   ],
   "source": [
    "total_native_speakers = df['Native speakers(in millions)'].sum()\n",
    "total_native_speakers "
   ]
  },
  {
   "cell_type": "markdown",
   "id": "031bb6d8-82e3-4bf4-b3a7-c2a83e6c5f62",
   "metadata": {},
   "source": [
    "The total number of native speakers of all languages in this table is 4,401,000,000"
   ]
  },
  {
   "cell_type": "markdown",
   "id": "c687aead-accf-4ee9-b634-64bfe5e6c6c6",
   "metadata": {},
   "source": [
    "# 2) How many different types of language family are there?"
   ]
  },
  {
   "cell_type": "code",
   "execution_count": 25,
   "id": "71dc08b5-88d0-41b8-8482-60fbfc290e09",
   "metadata": {},
   "outputs": [
    {
     "data": {
      "text/plain": [
       "array(['Sino-Tibetan', 'Indo-European', 'Japonic', 'Austroasiatic',\n",
       "       'Turkic', 'Dravidian', 'Koreanic', 'Afroasiatic', 'Austronesian'],\n",
       "      dtype=object)"
      ]
     },
     "execution_count": 25,
     "metadata": {},
     "output_type": "execute_result"
    }
   ],
   "source": [
    "unique_lang_families = df['Language family'].unique()\n",
    "count_lang_families = len(unique_lang_families)\n",
    "unique_lang_families"
   ]
  },
  {
   "cell_type": "code",
   "execution_count": 27,
   "id": "240387cc-7188-4d38-bde3-0bb5b63c9cfa",
   "metadata": {},
   "outputs": [
    {
     "data": {
      "text/plain": [
       "9"
      ]
     },
     "execution_count": 27,
     "metadata": {},
     "output_type": "execute_result"
    }
   ],
   "source": [
    "count_lang_families"
   ]
  },
  {
   "cell_type": "markdown",
   "id": "8ce11bf1-1191-43fd-a91a-1f6a7674c49f",
   "metadata": {},
   "source": [
    "There are 9 different types of language family in the table"
   ]
  },
  {
   "cell_type": "markdown",
   "id": "c895899e-7eb0-49b9-837d-be54b4007737",
   "metadata": {},
   "source": [
    "# 3) What is the total number of native speakers per language family?"
   ]
  },
  {
   "cell_type": "code",
   "execution_count": 45,
   "id": "b0e748a1-302b-4711-acaf-0077d8f14c94",
   "metadata": {},
   "outputs": [
    {
     "data": {
      "text/plain": [
       "Language family\n",
       "Indo-European    2454\n",
       "Sino-Tibetan     1161\n",
       "Afroasiatic       183\n",
       "Dravidian         162\n",
       "Japonic           123\n",
       "Austroasiatic      85\n",
       "Turkic             84\n",
       "Koreanic           81\n",
       "Austronesian       68\n",
       "Name: Native speakers(in millions), dtype: int64"
      ]
     },
     "execution_count": 45,
     "metadata": {},
     "output_type": "execute_result"
    }
   ],
   "source": [
    "df.groupby('Language family')['Native speakers(in millions)'].sum().sort_values(ascending=False)"
   ]
  },
  {
   "cell_type": "markdown",
   "id": "9b075303-0cb0-4fac-9622-a9e3dfef3b0a",
   "metadata": {},
   "source": [
    "# 4. What are the top 3 most common language families? "
   ]
  },
  {
   "cell_type": "code",
   "execution_count": 52,
   "id": "4de94211-343d-4e8a-a064-6e0a53e45441",
   "metadata": {},
   "outputs": [
    {
     "data": {
      "text/plain": [
       "Language family\n",
       "Indo-European    2454\n",
       "Sino-Tibetan     1161\n",
       "Afroasiatic       183\n",
       "Name: Native speakers(in millions), dtype: int64"
      ]
     },
     "execution_count": 52,
     "metadata": {},
     "output_type": "execute_result"
    }
   ],
   "source": [
    "top_3_lang_families = df.groupby('Language family')['Native speakers(in millions)'].sum().sort_values(ascending=False)[:3]\n",
    "top_3_lang_families"
   ]
  },
  {
   "cell_type": "markdown",
   "id": "eacfba22-8d7e-4542-9ab8-60f0242ca0e4",
   "metadata": {},
   "source": [
    "# 5. Create a pie chart showing the top 3 most common language families"
   ]
  },
  {
   "cell_type": "code",
   "execution_count": 72,
   "id": "18a5e1b3-e587-4b88-a4e7-918591deb46c",
   "metadata": {},
   "outputs": [
    {
     "data": {
      "text/plain": [
       "<Axes: ylabel='Native speakers(in millions)'>"
      ]
     },
     "execution_count": 72,
     "metadata": {},
     "output_type": "execute_result"
    },
    {
     "data": {
      "image/png": "[encoded data removed]",
      "text/plain": [
       "<Figure size 640x480 with 1 Axes>"
      ]
     },
     "metadata": {},
     "output_type": "display_data"
    }
   ],
   "source": [
    "pie_chart_top_3_lang_families = top_3_lang_families.plot.pie(y='Native speakers(in millions)')\n",
    "pie_chart_top_3_lang_families.legend(\n",
    "    labels=top_3_lang_families.index,  \n",
    "    title=\"Language Families\",        \n",
    "    loc=\"upper right\"                        \n",
    ")\n",
    "\n",
    "\n",
    "pie_chart_top_3_lang_families"
   ]
  },
  {
   "cell_type": "markdown",
   "id": "0ce75ba3-0975-4359-9ded-e4aa0ed2f5cf",
   "metadata": {},
   "source": [
    "# 6. What is the most commonly occuring Language family - branch pair?"
   ]
  },
  {
   "cell_type": "code",
   "execution_count": 88,
   "id": "e59951aa-f208-4bc4-9b80-5ea1aa654f07",
   "metadata": {},
   "outputs": [
    {
     "data": {
      "text/plain": [
       "Language family  Branch           \n",
       "Sino-Tibetan     Sinitic              1161\n",
       "Indo-European    Indo-Aryan            928\n",
       "                 Romance               860\n",
       "                 Germanic              456\n",
       "                 Balto-Slavic          148\n",
       "Afroasiatic      Semitic               129\n",
       "Japonic          Japanese              123\n",
       "Austroasiatic    Vietic                 85\n",
       "Turkic           Oghuz                  84\n",
       "Dravidian        South-Central          83\n",
       "Koreanic         —                      81\n",
       "Dravidian        South                  79\n",
       "Austronesian     Malayo-Polynesian      68\n",
       "Indo-European    Iranian                62\n",
       "Afroasiatic      Chadic                 54\n",
       "Name: Native speakers(in millions), dtype: int64"
      ]
     },
     "execution_count": 88,
     "metadata": {},
     "output_type": "execute_result"
    }
   ],
   "source": [
    "df.groupby(['Language family', 'Branch'])['Native speakers(in millions)'].sum().sort_values(ascending=False)"
   ]
  },
  {
   "cell_type": "code",
   "execution_count": 95,
   "id": "0b6abe07-90a5-4a08-90e1-1261127fabb5",
   "metadata": {},
   "outputs": [
    {
     "data": {
      "text/plain": [
       "Language family  Branch \n",
       "Sino-Tibetan     Sinitic    1161\n",
       "Name: Native speakers(in millions), dtype: int64"
      ]
     },
     "execution_count": 95,
     "metadata": {},
     "output_type": "execute_result"
    }
   ],
   "source": [
    "top_lang_branch_pair = df.groupby(['Language family', 'Branch'])['Native speakers(in millions)'].sum().sort_values(ascending=False)[:1]\n",
    "top_lang_branch_pair "
   ]
  },
  {
   "cell_type": "markdown",
   "id": "1bfdd87b-1009-424d-a7ad-6483cc1f6e99",
   "metadata": {},
   "source": [
    "The most common language family - branch pair is Sino-Tibetan, Sinitic"
   ]
  },
  {
   "cell_type": "markdown",
   "id": "62cbcdb7-7ada-4699-89cc-12429c7476ec",
   "metadata": {},
   "source": [
    "# 7. Which languages are Sino-Tibetan in the table?"
   ]
  },
  {
   "cell_type": "code",
   "execution_count": 107,
   "id": "d5be0ca6-93ec-4d36-893b-4ad688759a56",
   "metadata": {},
   "outputs": [
    {
     "data": {
      "text/plain": [
       "['Mandarin Chinese', 'Yue Chinese', 'Wu Chinese', 'Southern Min']"
      ]
     },
     "execution_count": 107,
     "metadata": {},
     "output_type": "execute_result"
    }
   ],
   "source": [
    "df[df['Language family'] == 'Sino-Tibetan']['Language'].tolist()"
   ]
  },
  {
   "cell_type": "markdown",
   "id": "c7dae017-abb1-411d-a23c-1c912f7a4487",
   "metadata": {},
   "source": [
    "The Sino-Tibetan languages in the table are: **Mandarin Chinese, Yue Chinese, Wu Chinese, Southern Min**"
   ]
  },
  {
   "cell_type": "markdown",
   "id": "df3e7c8d-dbf7-4ac1-8647-601d3f84be14",
   "metadata": {},
   "source": [
    "# 8. Display a bar chart of the native speakers of all Romance and Germanic languages "
   ]
  },
  {
   "cell_type": "code",
   "execution_count": 25,
   "id": "abf43c05-2d4c-4a7e-947b-6de96a8c3576",
   "metadata": {},
   "outputs": [
    {
     "data": {
      "text/html": [
       "<div>\n",
       "<style scoped>\n",
       "    .dataframe tbody tr th:only-of-type {\n",
       "        vertical-align: middle;\n",
       "    }\n",
       "\n",
       "    .dataframe tbody tr th {\n",
       "        vertical-align: top;\n",
       "    }\n",
       "\n",
       "    .dataframe thead th {\n",
       "        text-align: right;\n",
       "    }\n",
       "</style>\n",
       "<table border=\"1\" class=\"dataframe\">\n",
       "  <thead>\n",
       "    <tr style=\"text-align: right;\">\n",
       "      <th></th>\n",
       "      <th>Language</th>\n",
       "      <th>Native speakers(in millions)</th>\n",
       "      <th>Language family</th>\n",
       "      <th>Branch</th>\n",
       "    </tr>\n",
       "  </thead>\n",
       "  <tbody>\n",
       "    <tr>\n",
       "      <th>1</th>\n",
       "      <td>Spanish</td>\n",
       "      <td>486</td>\n",
       "      <td>Indo-European</td>\n",
       "      <td>Romance</td>\n",
       "    </tr>\n",
       "    <tr>\n",
       "      <th>2</th>\n",
       "      <td>English</td>\n",
       "      <td>380</td>\n",
       "      <td>Indo-European</td>\n",
       "      <td>Germanic</td>\n",
       "    </tr>\n",
       "    <tr>\n",
       "      <th>5</th>\n",
       "      <td>Portuguese</td>\n",
       "      <td>236</td>\n",
       "      <td>Indo-European</td>\n",
       "      <td>Romance</td>\n",
       "    </tr>\n",
       "    <tr>\n",
       "      <th>18</th>\n",
       "      <td>Standard German</td>\n",
       "      <td>76</td>\n",
       "      <td>Indo-European</td>\n",
       "      <td>Germanic</td>\n",
       "    </tr>\n",
       "    <tr>\n",
       "      <th>19</th>\n",
       "      <td>French</td>\n",
       "      <td>74</td>\n",
       "      <td>Indo-European</td>\n",
       "      <td>Romance</td>\n",
       "    </tr>\n",
       "    <tr>\n",
       "      <th>22</th>\n",
       "      <td>Italian</td>\n",
       "      <td>64</td>\n",
       "      <td>Indo-European</td>\n",
       "      <td>Romance</td>\n",
       "    </tr>\n",
       "  </tbody>\n",
       "</table>\n",
       "</div>"
      ],
      "text/plain": [
       "           Language  Native speakers(in millions) Language family    Branch\n",
       "1           Spanish                           486   Indo-European   Romance\n",
       "2           English                           380   Indo-European  Germanic\n",
       "5        Portuguese                           236   Indo-European   Romance\n",
       "18  Standard German                            76   Indo-European  Germanic\n",
       "19           French                            74   Indo-European   Romance\n",
       "22          Italian                            64   Indo-European   Romance"
      ]
     },
     "execution_count": 25,
     "metadata": {},
     "output_type": "execute_result"
    }
   ],
   "source": [
    "romance_lang = df[(df['Branch'] == 'Romance') | (df['Branch'] == 'Germanic')]\n",
    "romance_lang"
   ]
  },
  {
   "cell_type": "code",
   "execution_count": 29,
   "id": "a350a818-9512-46e9-a31d-b648a1a6bf06",
   "metadata": {},
   "outputs": [
    {
     "data": {
      "text/plain": [
       "<Axes: xlabel='Language'>"
      ]
     },
     "execution_count": 29,
     "metadata": {},
     "output_type": "execute_result"
    },
    {
     "data": {
      "image/png": "[encoded data removed]",
      "text/plain": [
       "<Figure size 640x480 with 1 Axes>"
      ]
     },
     "metadata": {},
     "output_type": "display_data"
    }
   ],
   "source": [
    "romance_lang.plot.bar(x='Language', y='Native speakers(in millions)', color='#26C6DA')"
   ]
  },
  {
   "cell_type": "markdown",
   "id": "fefe8bae-b943-4eec-9500-ecd4a039b849",
   "metadata": {},
   "source": [
    "# 9. What percentage of total native speakers is represented by the top 5 languages?"
   ]
  },
  {
   "cell_type": "code",
   "execution_count": 40,
   "id": "2f03c0a0-21d5-4ccc-9c1b-82249351983d",
   "metadata": {},
   "outputs": [
    {
     "data": {
      "text/plain": [
       "2389"
      ]
     },
     "execution_count": 40,
     "metadata": {},
     "output_type": "execute_result"
    }
   ],
   "source": [
    "top_5_languages = df[:5]['Native speakers(in millions)'].sum()\n",
    "top_5_languages"
   ]
  },
  {
   "cell_type": "code",
   "execution_count": 44,
   "id": "daabb779-d1f6-4fcc-a4e6-0a544130e9ea",
   "metadata": {},
   "outputs": [
    {
     "data": {
      "text/plain": [
       "54.28"
      ]
     },
     "execution_count": 44,
     "metadata": {},
     "output_type": "execute_result"
    }
   ],
   "source": [
    "((top_5_languages / total_native_speakers) * 100).round(2)"
   ]
  },
  {
   "cell_type": "markdown",
   "id": "f856f978-8788-4d76-9f07-191f6d691f28",
   "metadata": {},
   "source": [
    "54.28% of total native speakers is represented by the top 5 languages"
   ]
  },
  {
   "cell_type": "markdown",
   "id": "d5ed4b0a-2c2d-4df9-8614-c5a6b24cb22f",
   "metadata": {},
   "source": [
    "# 10. Which branch has the most native speakers, and which has the least?"
   ]
  },
  {
   "cell_type": "code",
   "execution_count": 78,
   "id": "842aff6a-6a30-4e6d-a47d-4fb0d7e8f34d",
   "metadata": {},
   "outputs": [
    {
     "data": {
      "text/plain": [
       "Branch\n",
       "Sinitic              1161\n",
       "Indo-Aryan            928\n",
       "Romance               860\n",
       "Germanic              456\n",
       "Balto-Slavic          148\n",
       "Semitic               129\n",
       "Japanese              123\n",
       "Vietic                 85\n",
       "Oghuz                  84\n",
       "South-Central          83\n",
       "—                      81\n",
       "South                  79\n",
       "Malayo-Polynesian      68\n",
       "Iranian                62\n",
       "Chadic                 54\n",
       "Name: Native speakers(in millions), dtype: int64"
      ]
     },
     "execution_count": 78,
     "metadata": {},
     "output_type": "execute_result"
    }
   ],
   "source": [
    "\n",
    "branches_df = df.groupby('Branch')['Native speakers(in millions)'].sum().sort_values(ascending=False)\n",
    "branches_df"
   ]
  },
  {
   "cell_type": "markdown",
   "id": "8122060c-ff0e-41dd-8a96-c428fcc0b94e",
   "metadata": {},
   "source": [
    "The branch with the most native speakers is 'Sinitic', the branch with the least native speakers is 'Chadic'"
   ]
  },
  {
   "cell_type": "code",
   "execution_count": null,
   "id": "039772be-ed88-4587-bd66-6a1f2513dd8c",
   "metadata": {},
   "outputs": [],
   "source": []
  }
 ],
 "metadata": {
  "kernelspec": {
   "display_name": "Python [conda env:base] *",
   "language": "python",
   "name": "conda-base-py"
  },
  "language_info": {
   "codemirror_mode": {
    "name": "ipython",
    "version": 3
   },
   "file_extension": ".py",
   "mimetype": "text/x-python",
   "name": "python",
   "nbconvert_exporter": "python",
   "pygments_lexer": "ipython3",
   "version": "3.12.7"
  }
 },
 "nbformat": 4,
 "nbformat_minor": 5
}
